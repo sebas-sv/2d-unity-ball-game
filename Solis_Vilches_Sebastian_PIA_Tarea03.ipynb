{
  "nbformat": 4,
  "nbformat_minor": 0,
  "metadata": {
    "colab": {
      "provenance": [],
      "include_colab_link": true
    },
    "kernelspec": {
      "name": "python3",
      "display_name": "Python 3"
    },
    "language_info": {
      "name": "python"
    }
  },
  "cells": [
    {
      "cell_type": "markdown",
      "metadata": {
        "id": "view-in-github",
        "colab_type": "text"
      },
      "source": [
        "<a href=\"https://colab.research.google.com/github/sebas-sv/2d-unity-ball-game/blob/main/Solis_Vilches_Sebastian_PIA_Tarea03.ipynb\" target=\"_parent\"><img src=\"https://colab.research.google.com/assets/colab-badge.svg\" alt=\"Open In Colab\"/></a>"
      ]
    },
    {
      "cell_type": "markdown",
      "source": [
        "#Tarea 3 para PIA"
      ],
      "metadata": {
        "id": "Z4x_0xWkbYFm"
      }
    },
    {
      "cell_type": "markdown",
      "source": [
        "##Apartado 1"
      ],
      "metadata": {
        "id": "VPXtawvebysB"
      }
    },
    {
      "cell_type": "markdown",
      "source": [
        "1. Prueba para comprobar el funcionamiento\n",
        "\n"
      ],
      "metadata": {
        "id": "gQbekSovdbXV"
      }
    },
    {
      "cell_type": "code",
      "execution_count": null,
      "metadata": {
        "colab": {
          "base_uri": "https://localhost:8080/"
        },
        "id": "3yNWtaHQUBWd",
        "outputId": "e39640c7-b2ce-4171-c1ec-290cf76c689a"
      },
      "outputs": [
        {
          "output_type": "stream",
          "name": "stdout",
          "text": [
            "The Zen of Python, by Tim Peters\n",
            "\n",
            "Beautiful is better than ugly.\n",
            "Explicit is better than implicit.\n",
            "Simple is better than complex.\n",
            "Complex is better than complicated.\n",
            "Flat is better than nested.\n",
            "Sparse is better than dense.\n",
            "Readability counts.\n",
            "Special cases aren't special enough to break the rules.\n",
            "Although practicality beats purity.\n",
            "Errors should never pass silently.\n",
            "Unless explicitly silenced.\n",
            "In the face of ambiguity, refuse the temptation to guess.\n",
            "There should be one-- and preferably only one --obvious way to do it.\n",
            "Although that way may not be obvious at first unless you're Dutch.\n",
            "Now is better than never.\n",
            "Although never is often better than *right* now.\n",
            "If the implementation is hard to explain, it's a bad idea.\n",
            "If the implementation is easy to explain, it may be a good idea.\n",
            "Namespaces are one honking great idea -- let's do more of those!\n"
          ]
        }
      ],
      "source": [
        "import this"
      ]
    },
    {
      "cell_type": "markdown",
      "source": [
        "2. Creación de las listas de **ciudades** y **artistas**"
      ],
      "metadata": {
        "id": "ASheiHgjdsuB"
      }
    },
    {
      "cell_type": "code",
      "source": [
        "cities = [\"París\", \"Tokio\", \"Sídney\", \"Berlín\", \"Moscú\", \"Roma\", \"México\", \"Pekín\", \"Toronto\", \"Estocolmo\"]\n",
        "print(cities)"
      ],
      "metadata": {
        "colab": {
          "base_uri": "https://localhost:8080/"
        },
        "id": "CiQ1RF0lVJVv",
        "outputId": "c966ea9f-8706-46f4-b745-26a5785b6de9"
      },
      "execution_count": null,
      "outputs": [
        {
          "output_type": "stream",
          "name": "stdout",
          "text": [
            "['París', 'Tokio', 'Sídney', 'Berlín', 'Moscú', 'Roma', 'México', 'Pekín', 'Toronto', 'Estocolmo']\n"
          ]
        }
      ]
    },
    {
      "cell_type": "code",
      "source": [
        "artists = [\"Foo Fighters\", \"The Rolling Stones\", \"U2\", \"Coldplay\", \"Bruce Springsteen\", \"Red Hot Chili Peppers\", \"Pearl Jam\", \"Metallica\", \"Muse\", \"Arctic Monkeys\"]\n",
        "print(artists)"
      ],
      "metadata": {
        "colab": {
          "base_uri": "https://localhost:8080/"
        },
        "id": "3NryG58bV9Ag",
        "outputId": "d6c4c42c-2c78-4600-bea3-eb70a25dfca6"
      },
      "execution_count": null,
      "outputs": [
        {
          "output_type": "stream",
          "name": "stdout",
          "text": [
            "['Foo Fighters', 'The Rolling Stones', 'U2', 'Coldplay', 'Bruce Springsteen', 'Red Hot Chili Peppers', 'Pearl Jam', 'Metallica', 'Muse', 'Arctic Monkeys']\n"
          ]
        }
      ]
    },
    {
      "cell_type": "markdown",
      "source": [
        "3. A partir de estas listas se crea un diccionario (**Documentación** en [dict](https://docs.python.org/3/library/functions.html#func-dict) y [zip](https://docs.python.org/3/library/functions.html#zip))"
      ],
      "metadata": {
        "id": "p0HeTQ5ed0lf"
      }
    },
    {
      "cell_type": "code",
      "source": [
        "artists_cities = dict(zip(artists, cities))\n",
        "print(artists_cities)"
      ],
      "metadata": {
        "colab": {
          "base_uri": "https://localhost:8080/"
        },
        "id": "LiNJf3XQWyCY",
        "outputId": "fd3dad89-3c29-469a-9e13-b7cff33bdc88"
      },
      "execution_count": null,
      "outputs": [
        {
          "output_type": "stream",
          "name": "stdout",
          "text": [
            "{'Foo Fighters': 'París', 'The Rolling Stones': 'Tokio', 'U2': 'Sídney', 'Coldplay': 'Berlín', 'Bruce Springsteen': 'Moscú', 'Red Hot Chili Peppers': 'Roma', 'Pearl Jam': 'México', 'Metallica': 'Pekín', 'Muse': 'Toronto', 'Arctic Monkeys': 'Estocolmo'}\n"
          ]
        }
      ]
    },
    {
      "cell_type": "markdown",
      "source": [
        "4. Se itera el diccionario para listas donde actuarán cada uno de los artistas"
      ],
      "metadata": {
        "id": "9gp6l2fwedbY"
      }
    },
    {
      "cell_type": "code",
      "source": [
        "print('Estos son los conciertos para esta semana:')\n",
        "for artist, city in artists_cities.items():\n",
        "    print(f'• {artist}, actuará en {city}')"
      ],
      "metadata": {
        "colab": {
          "base_uri": "https://localhost:8080/"
        },
        "id": "uLztbl6vXP0E",
        "outputId": "e6069ab9-5541-4b05-ed06-5444be307e75"
      },
      "execution_count": null,
      "outputs": [
        {
          "output_type": "stream",
          "name": "stdout",
          "text": [
            "Estos son los conciertos para esta semana:\n",
            "• Foo Fighters, actuará en París\n",
            "• The Rolling Stones, actuará en Tokio\n",
            "• U2, actuará en Sídney\n",
            "• Coldplay, actuará en Berlín\n",
            "• Bruce Springsteen, actuará en Moscú\n",
            "• Red Hot Chili Peppers, actuará en Roma\n",
            "• Pearl Jam, actuará en México\n",
            "• Metallica, actuará en Pekín\n",
            "• Muse, actuará en Toronto\n",
            "• Arctic Monkeys, actuará en Estocolmo\n"
          ]
        }
      ]
    },
    {
      "cell_type": "markdown",
      "source": [
        "5. Se crea una **nueva lista de ciudades** movidas en 2 posiciones, para luego **crear un nuevo diccionario** con los artistas en la misma posición, de modo que puedan continuar el tour sin repetir ciudades"
      ],
      "metadata": {
        "id": "RTdXnKlnelnb"
      }
    },
    {
      "cell_type": "code",
      "source": [
        "next_cities = cities[-2:]  + cities[:-2]\n",
        "print(next_cities)\n",
        "\n",
        "artists_next_cities = dict(zip(artists, next_cities))\n",
        "\n",
        "print('Estos son los conciertos para la próxima semana:')\n",
        "for artist, city in artists_next_cities.items():\n",
        "    print(f'• {artist}, actuará en {city}')"
      ],
      "metadata": {
        "colab": {
          "base_uri": "https://localhost:8080/"
        },
        "id": "crTOyWVKZts1",
        "outputId": "1e25c5de-d3f6-4d67-9bec-d4c1d23b5a0a"
      },
      "execution_count": null,
      "outputs": [
        {
          "output_type": "stream",
          "name": "stdout",
          "text": [
            "['Toronto', 'Estocolmo', 'París', 'Tokio', 'Sídney', 'Berlín', 'Moscú', 'Roma', 'México', 'Pekín']\n",
            "Estos son los conciertos para la próxima semana:\n",
            "• Foo Fighters, actuará en Toronto\n",
            "• The Rolling Stones, actuará en Estocolmo\n",
            "• U2, actuará en París\n",
            "• Coldplay, actuará en Tokio\n",
            "• Bruce Springsteen, actuará en Sídney\n",
            "• Red Hot Chili Peppers, actuará en Berlín\n",
            "• Pearl Jam, actuará en Moscú\n",
            "• Metallica, actuará en Roma\n",
            "• Muse, actuará en México\n",
            "• Arctic Monkeys, actuará en Pekín\n"
          ]
        }
      ]
    },
    {
      "cell_type": "markdown",
      "source": [
        "##Apartado 2"
      ],
      "metadata": {
        "id": "0HMqhFp4b1G1"
      }
    },
    {
      "cell_type": "markdown",
      "source": [
        "En este apartado se realizan anotaciones en el código del apartado 1, por ejemplo, de tipo:\n",
        "\n",
        "\n",
        "\n",
        "*   Títulos\n",
        "*   Subtítulos\n",
        "*   Textos\n",
        "*   Listas\n",
        "*   Textos en **negrita** y *cursiva*\n",
        "*   Enlaces a [Jupyter Notebook](https://jupyter-notebook.readthedocs.io/en/stable/examples/Notebook/Working%20With%20Markdown%20Cells.html) y a [Python](https://pyhon.org/)\n",
        "*   Imágenes:\n",
        "\n",
        "<img src=\"https://upload.wikimedia.org/wikipedia/commons/c/c3/Python-logo-notext.svg\"/>\n",
        "\n",
        "*   Etc..."
      ],
      "metadata": {
        "id": "_WsQObUAb--X"
      }
    }
  ]
}